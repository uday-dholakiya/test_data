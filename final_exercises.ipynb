{
  "metadata": {
    "kernelspec": {
      "name": "python",
      "display_name": "Python (Pyodide)",
      "language": "python"
    },
    "language_info": {
      "codemirror_mode": {
        "name": "python",
        "version": 3
      },
      "file_extension": ".py",
      "mimetype": "text/x-python",
      "name": "python",
      "nbconvert_exporter": "python",
      "pygments_lexer": "ipython3",
      "version": "3.8"
    }
  },
  "nbformat_minor": 5,
  "nbformat": 4,
  "cells": [
    {
      "id": "98c2f354-7e0b-4fc0-90ce-2b665d76ce57",
      "cell_type": "markdown",
      "source": "# Data Science Project",
      "metadata": {}
    },
    {
      "id": "1cd12f05-84c2-4d9f-96b3-e9bb14413cc1",
      "cell_type": "markdown",
      "source": "## Introduction\nThis notebook demonstrates various fundamental concepts in data science, including arithmetic expressions, data science tools, and libraries.",
      "metadata": {}
    },
    {
      "id": "fef38c7d-956e-45bf-9589-fa60f73f0f47",
      "cell_type": "markdown",
      "source": "## Data Science Languages\n- Python\n- R\n- SQL\n- Julia\n- Scala",
      "metadata": {}
    },
    {
      "id": "43ddeff0-26f2-4f40-8d30-7e2b5edae469",
      "cell_type": "markdown",
      "source": "## Data Science Libraries\n- Pandas\n- NumPy\n- Matplotlib\n- SciPy\n- Scikit-learn\n",
      "metadata": {}
    },
    {
      "id": "d28e7578-2aca-453d-b9a6-5aa5e4f43a63",
      "cell_type": "markdown",
      "source": "## Data Science Tools\n\n| Tool        | Purpose                  |\n|-------------|--------------------------|\n| Jupyter     | Interactive notebooks     |\n| GitHub      | Version control           |\n| VS Code     | Code editor               |\n| Tableau     | Data visualization        |\n| Excel       | Data analysis             |\n",
      "metadata": {}
    },
    {
      "id": "8e3c0749-a601-4de7-80c3-930d209c8d79",
      "cell_type": "markdown",
      "source": "## Arithmetic Expressions\nBelow are some examples of arithmetic expressions in Python.",
      "metadata": {}
    },
    {
      "id": "68d1ea00-859f-4293-937e-d8f1f3814981",
      "cell_type": "code",
      "source": "# Example of multiplication and addition\n# Example of multiplication and addition\nnum1 = 5\nnum2 = 3\nresult_multiply = num1 * num2\nresult_add = num1 + num2\n\nresult_multiply, result_add",
      "metadata": {
        "trusted": true
      },
      "outputs": [
        {
          "execution_count": 1,
          "output_type": "execute_result",
          "data": {
            "text/plain": "(15, 8)"
          },
          "metadata": {}
        }
      ],
      "execution_count": 1
    },
    {
      "id": "a5cec2fb-71e9-42df-98bf-861c0adc5616",
      "cell_type": "code",
      "source": "# Convert minutes to hours\nminutes = 150\nhours = minutes / 60\nhours",
      "metadata": {
        "trusted": true
      },
      "outputs": [
        {
          "execution_count": 2,
          "output_type": "execute_result",
          "data": {
            "text/plain": "2.5"
          },
          "metadata": {}
        }
      ],
      "execution_count": 2
    },
    {
      "id": "526fffe6-d32a-477c-acdd-765014fc3a94",
      "cell_type": "markdown",
      "source": "## Objectives\n1. Understand basic arithmetic expressions in Python.\n2. Learn about data science tools and libraries.\n3. Gain familiarity with converting time units in Python.\n",
      "metadata": {}
    },
    {
      "id": "2029c387-78ed-4239-9ced-7c0a7dacfcdf",
      "cell_type": "markdown",
      "source": "## Author\nThis notebook is created by Uday Dholakiya.\n",
      "metadata": {}
    },
    {
      "id": "49107827-466d-4e17-84ae-1fd20cf07bfe",
      "cell_type": "code",
      "source": "",
      "metadata": {
        "trusted": true
      },
      "outputs": [],
      "execution_count": null
    }
  ]
}